{
 "cells": [
  {
   "cell_type": "code",
   "execution_count": 1,
   "id": "56ef303b",
   "metadata": {},
   "outputs": [],
   "source": [
    "import os\n",
    "import cv2\n",
    "import numpy as np\n",
    "import matplotlib.pyplot as plt\n",
    "import tensorflow as tf"
   ]
  },
  {
   "cell_type": "code",
   "execution_count": 7,
   "id": "76d405ad",
   "metadata": {},
   "outputs": [],
   "source": [
    "label = [\n",
    "    \"Amaranthus Green\", \"Asthma Plant\", \"Avaram\", \"Balloon vine\", \"Bellyache bush (Green)\",\n",
    "    \"Betel Leaves\", \"Black-Honey Shrub\", \"Benghal dayflower\", \"Bristly Wild Grape\", \"Butterfly Pea\",\n",
    "    \"Cape Gooseberry\", \"Celery\", \"Common Wireweed\", \"Coatbuttons\", \"Country Mallow\", \"Crown flower\",\n",
    "    \"Dwarf Copperleaf (Green)\", \"Gongura\", \"Green Chireta\", \"Ivy Gourd.zip\", \"Indian Jujube\", \n",
    "    \"Indian Stinging Nettle\", \"Indian Thornapple\", \"Indian wormwood\", \"Lagos Spinach\", \"Lambs Quarters\", \n",
    "    \"Land Caltrops (Bindii)\", \"Lettuce Tree\", \"Malabar Catmint\", \"Malabar Spinach (Green)\", \n",
    "    \"Madagascar Periwinkle\", \"Madras Pea Pumpkin\", \"Mexican Mint\", \"Mexican Prickly Poppy\", \n",
    "    \"Mint Leaves\", \"Mountain Knotgrass\", \"Mustard\", \"Nalta Jute\", \"Night blooming Cereus\", \n",
    "    \"Palak\", \"Panicled Foldwing\", \"Prickly Chaff Flower\", \"Punarnava\", \"Purple Fruited Pea Eggplant\", \n",
    "    \"Purple Tephrosia\", \"Rosary Pea\", \"Shaggy button weed\", \"Siru Keerai\", \"The Bengal dayflower\", \n",
    "    \"Wormwood\"\n",
    "]"
   ]
  },
  {
   "cell_type": "code",
   "execution_count": 12,
   "id": "aa7ba518",
   "metadata": {},
   "outputs": [
    {
     "name": "stderr",
     "output_type": "stream",
     "text": [
      "WARNING:absl:Compiled the loaded model, but the compiled metrics have yet to be built. `model.compile_metrics` will be empty until you train or evaluate the model.\n"
     ]
    },
    {
     "name": "stdout",
     "output_type": "stream",
     "text": [
      "WARNING:tensorflow:6 out of the last 6 calls to <function TensorFlowTrainer.make_predict_function.<locals>.one_step_on_data_distributed at 0x00000241ABBD9A20> triggered tf.function retracing. Tracing is expensive and the excessive number of tracings could be due to (1) creating @tf.function repeatedly in a loop, (2) passing tensors with different shapes, (3) passing Python objects instead of tensors. For (1), please define your @tf.function outside of the loop. For (2), @tf.function has reduce_retracing=True option that can avoid unnecessary retracing. For (3), please refer to https://www.tensorflow.org/guide/function#controlling_retracing and https://www.tensorflow.org/api_docs/python/tf/function for  more details.\n"
     ]
    },
    {
     "name": "stderr",
     "output_type": "stream",
     "text": [
      "WARNING:tensorflow:6 out of the last 6 calls to <function TensorFlowTrainer.make_predict_function.<locals>.one_step_on_data_distributed at 0x00000241ABBD9A20> triggered tf.function retracing. Tracing is expensive and the excessive number of tracings could be due to (1) creating @tf.function repeatedly in a loop, (2) passing tensors with different shapes, (3) passing Python objects instead of tensors. For (1), please define your @tf.function outside of the loop. For (2), @tf.function has reduce_retracing=True option that can avoid unnecessary retracing. For (3), please refer to https://www.tensorflow.org/guide/function#controlling_retracing and https://www.tensorflow.org/api_docs/python/tf/function for  more details.\n"
     ]
    },
    {
     "name": "stdout",
     "output_type": "stream",
     "text": [
      "\u001b[1m1/1\u001b[0m \u001b[32m━━━━━━━━━━━━━━━━━━━━\u001b[0m\u001b[37m\u001b[0m \u001b[1m1s\u001b[0m 1s/step\n",
      "0.5074505\n",
      "Avaram\n"
     ]
    }
   ],
   "source": [
    "import tensorflow as tf\n",
    "import numpy as np\n",
    "\n",
    "image_path = r\"D:\\College\\chotu_Vaishnavi\\WhatsApp Image 2025-04-27 at 18.25.13_6e58d2c2.jpg\"\n",
    "\n",
    "img = tf.keras.preprocessing.image.load_img(image_path, target_size=(299, 299))\n",
    "img_array = tf.keras.preprocessing.image.img_to_array(img)\n",
    "\n",
    "img_array = np.expand_dims(img_array, axis=0)\n",
    "\n",
    "model = tf.keras.models.load_model(r\"D:\\College\\chotu_Vaishnavi\\cnnmodel\\model_avg_25.h5\")\n",
    "\n",
    "predictions = model.predict(img_array)\n",
    "\n",
    "predictions_index = np.argmax(predictions, axis=1)\n",
    "\n",
    "print(predictions[0][predictions_index[0]])\n",
    "\n",
    "predicted_label = label[predictions_index[0]]\n",
    "\n",
    "print(predicted_label)\n",
    "\n",
    "\n"
   ]
  },
  {
   "cell_type": "code",
   "execution_count": 1,
   "id": "a201acf8",
   "metadata": {},
   "outputs": [],
   "source": [
    "from cnnmodel.cnn import CNNModel"
   ]
  },
  {
   "cell_type": "code",
   "execution_count": 2,
   "id": "b22e116f",
   "metadata": {},
   "outputs": [
    {
     "name": "stderr",
     "output_type": "stream",
     "text": [
      "WARNING:absl:Compiled the loaded model, but the compiled metrics have yet to be built. `model.compile_metrics` will be empty until you train or evaluate the model.\n"
     ]
    },
    {
     "name": "stdout",
     "output_type": "stream",
     "text": [
      "\u001b[1m1/1\u001b[0m \u001b[32m━━━━━━━━━━━━━━━━━━━━\u001b[0m\u001b[37m\u001b[0m \u001b[1m1s\u001b[0m 1s/step\n"
     ]
    },
    {
     "data": {
      "text/plain": [
       "{'predicted_label': 'Avaram', 'confidence': 0.5074505}"
      ]
     },
     "execution_count": 2,
     "metadata": {},
     "output_type": "execute_result"
    }
   ],
   "source": [
    "cnn = CNNModel()\n",
    "cnn.predict(r'D:\\College\\chotu_Vaishnavi\\WhatsApp Image 2025-04-27 at 18.25.13_6e58d2c2.jpg')"
   ]
  },
  {
   "cell_type": "code",
   "execution_count": null,
   "id": "5ca46fb4",
   "metadata": {},
   "outputs": [],
   "source": []
  }
 ],
 "metadata": {
  "kernelspec": {
   "display_name": "py310",
   "language": "python",
   "name": "python3"
  },
  "language_info": {
   "codemirror_mode": {
    "name": "ipython",
    "version": 3
   },
   "file_extension": ".py",
   "mimetype": "text/x-python",
   "name": "python",
   "nbconvert_exporter": "python",
   "pygments_lexer": "ipython3",
   "version": "3.10.16"
  }
 },
 "nbformat": 4,
 "nbformat_minor": 5
}
